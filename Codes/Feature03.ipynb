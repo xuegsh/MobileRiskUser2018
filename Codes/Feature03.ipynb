{
 "cells": [
  {
   "cell_type": "code",
   "execution_count": 1,
   "metadata": {},
   "outputs": [],
   "source": [
    "import pandas as pd\n",
    "import numpy as np"
   ]
  },
  {
   "cell_type": "code",
   "execution_count": 2,
   "metadata": {},
   "outputs": [],
   "source": [
    "wa_train = pd.read_csv('../../trainData/wa_train.txt',sep='\\t',header=None,names=('uid','wa_name','visit_cnt','visit_dura','up_flow','down_flow','wa_type','date'),dtype={'date':str})\n",
    "wa_test = pd.read_csv('../../testData_B/wa_test_b.txt',sep='\\t',header=None,names=('uid','wa_name','visit_cnt','visit_dura','up_flow','down_flow','wa_type','date'),dtype={'date':str})"
   ]
  },
  {
   "cell_type": "code",
   "execution_count": 3,
   "metadata": {},
   "outputs": [],
   "source": [
    "uid_test = pd.DataFrame({'uid':pd.unique(wa_test['uid'])})"
   ]
  },
  {
   "cell_type": "code",
   "execution_count": 5,
   "metadata": {},
   "outputs": [],
   "source": [
    "uid_train = pd.read_csv('../../trainData/uid_train.txt',sep='\\t',header=None,names=('uid','label'))"
   ]
  },
  {
   "cell_type": "code",
   "execution_count": 6,
   "metadata": {},
   "outputs": [],
   "source": [
    "wa = pd.concat([wa_train,wa_test],axis=0)\n",
    "uid = pd.concat([uid_train, uid_test], axis=0)"
   ]
  },
  {
   "cell_type": "code",
   "execution_count": 9,
   "metadata": {},
   "outputs": [],
   "source": [
    "# calculate up_flow_per_visit, down_flow_per_visit, dura_per_visit\n",
    "wa['up_flow_per_visit'] = wa['up_flow'] / wa['visit_cnt']\n",
    "wa['down_flow_per_visit'] = wa['down_flow'] / wa['visit_cnt']\n",
    "wa['dura_per_visit'] = wa['visit_dura'] / wa['visit_cnt']"
   ]
  },
  {
   "cell_type": "code",
   "execution_count": 31,
   "metadata": {},
   "outputs": [],
   "source": [
    "wa_up_flow_per_visit = wa.groupby(['uid'])['up_flow_per_visit'].agg(['std','max','min','median','mean']).add_prefix('wa_up_flow_per_visit_').reset_index()\n",
    "wa_down_flow_per_visit = wa.groupby(['uid'])['down_flow_per_visit'].agg(['std','max','min','median','mean']).add_prefix('wa_down_flow_per_visit_').reset_index()\n",
    "wa_dura_per_visit = wa.groupby(['uid'])['dura_per_visit'].agg(['std','max','min','median','mean']).add_prefix('wa_dura_per_visit_').reset_index()\n"
   ]
  },
  {
   "cell_type": "code",
   "execution_count": 34,
   "metadata": {},
   "outputs": [
    {
     "data": {
      "text/plain": [
       "uid                            False\n",
       "wa_up_flow_per_visit_std        True\n",
       "wa_up_flow_per_visit_max        True\n",
       "wa_up_flow_per_visit_min        True\n",
       "wa_up_flow_per_visit_median     True\n",
       "wa_up_flow_per_visit_mean       True\n",
       "dtype: bool"
      ]
     },
     "execution_count": 34,
     "metadata": {},
     "output_type": "execute_result"
    }
   ],
   "source": [
    "pd.isnull(wa_up_flow_per_visit).any()"
   ]
  },
  {
   "cell_type": "code",
   "execution_count": 35,
   "metadata": {},
   "outputs": [],
   "source": [
    "feat_wa_per_visit = uid\n",
    "\n",
    "features = [wa_up_flow_per_visit, wa_down_flow_per_visit, wa_dura_per_visit]\n",
    "\n",
    "for feat in features:\n",
    "    feat_wa_per_visit = pd.merge(feat_wa_per_visit, feat, how='left', on='uid')\n",
    "\n",
    "feat_wa_per_visit.to_csv('../myFeatures/feat_wa_per_visit.csv')"
   ]
  },
  {
   "cell_type": "code",
   "execution_count": 43,
   "metadata": {},
   "outputs": [
    {
     "data": {
      "text/plain": [
       "Index(['label', 'uid', 'wa_up_flow_per_visit_std', 'wa_up_flow_per_visit_max',\n",
       "       'wa_up_flow_per_visit_min', 'wa_up_flow_per_visit_median',\n",
       "       'wa_up_flow_per_visit_mean', 'wa_down_flow_per_visit_std',\n",
       "       'wa_down_flow_per_visit_max', 'wa_down_flow_per_visit_min',\n",
       "       'wa_down_flow_per_visit_median', 'wa_down_flow_per_visit_mean',\n",
       "       'wa_dura_per_visit_std', 'wa_dura_per_visit_max',\n",
       "       'wa_dura_per_visit_min', 'wa_dura_per_visit_median',\n",
       "       'wa_dura_per_visit_mean'],\n",
       "      dtype='object')"
      ]
     },
     "execution_count": 43,
     "metadata": {},
     "output_type": "execute_result"
    }
   ],
   "source": [
    "feat_wa_per_visit.columns"
   ]
  },
  {
   "cell_type": "markdown",
   "metadata": {},
   "source": [
    "# Feat 2"
   ]
  },
  {
   "cell_type": "code",
   "execution_count": 24,
   "metadata": {},
   "outputs": [],
   "source": [
    "def formDiffDataFrame(df, prefix):\n",
    "    df_result = pd.DataFrame()\n",
    "    cols = ['std', 'max', 'min', 'median', 'mean', 'sum']\n",
    "    \n",
    "    first_time = True\n",
    "    for col in cols:\n",
    "        t = df.unstack()[:][col].add_prefix(prefix + col + '_in_wa_type_').reset_index()\n",
    "        if first_time:\n",
    "            df_result = t\n",
    "            first_time = False\n",
    "        else:\n",
    "            df_result = pd.merge(df_result, t, how='left', on='uid')\n",
    "    \n",
    "    return df_result"
   ]
  },
  {
   "cell_type": "code",
   "execution_count": 28,
   "metadata": {},
   "outputs": [],
   "source": [
    "# 计算每种wa_type该用户的visit_cnt, visit_dura, up_flow, down_flow\n",
    "wa_type_info_visit_cnt = wa.groupby(['uid', 'wa_type'])['visit_cnt'].agg(['std','max','min','median','mean','sum'])\n",
    "wa_type_info_visit_dura = wa.groupby(['uid', 'wa_type'])['visit_dura'].agg(['std','max','min','median','mean','sum'])\n",
    "wa_type_info_up_flow = wa.groupby(['uid', 'wa_type'])['up_flow'].agg(['std','max','min','median','mean','sum'])\n",
    "wa_type_info_down_flow = wa.groupby(['uid', 'wa_type'])['down_flow'].agg(['std','max','min','median','mean','sum'])"
   ]
  },
  {
   "cell_type": "code",
   "execution_count": 29,
   "metadata": {},
   "outputs": [],
   "source": [
    "wa_type_info_visit_cnt = formDiffDataFrame(wa_type_info_visit_cnt, 'visit_cnt_')\n",
    "wa_type_info_visit_dura = formDiffDataFrame(wa_type_info_visit_dura, 'visit_dura_')\n",
    "wa_type_info_up_flow = formDiffDataFrame(wa_type_info_up_flow, 'up_flow_')\n",
    "wa_type_info_down_flow = formDiffDataFrame(wa_type_info_down_flow, 'down_flow_')"
   ]
  },
  {
   "cell_type": "code",
   "execution_count": 36,
   "metadata": {},
   "outputs": [],
   "source": [
    "feat_wa_type_info = uid\n",
    "\n",
    "features = [wa_type_info_visit_cnt, wa_type_info_visit_dura, wa_type_info_up_flow, wa_type_info_down_flow]\n",
    "\n",
    "for feat in features:\n",
    "    feat_wa_type_info = pd.merge(feat_wa_type_info, feat, how='left', on='uid')\n",
    "\n",
    "feat_wa_type_info.to_csv('../myFeatures/feat_wa_type_info.csv')"
   ]
  },
  {
   "cell_type": "markdown",
   "metadata": {},
   "source": [
    "# 拼接"
   ]
  },
  {
   "cell_type": "code",
   "execution_count": 45,
   "metadata": {},
   "outputs": [],
   "source": [
    "feat_all = feat_wa_per_visit[['label', 'uid', 'wa_up_flow_per_visit_median', 'wa_down_flow_per_visit_median', 'wa_dura_per_visit_median']]\n",
    "# feat_all = pd.merge(feat_all, feat_wa_type_info.drop(['label'], axis=1), how='left', on='uid')\n"
   ]
  },
  {
   "cell_type": "code",
   "execution_count": 46,
   "metadata": {},
   "outputs": [
    {
     "data": {
      "text/plain": [
       "(4999, 5)"
      ]
     },
     "execution_count": 46,
     "metadata": {},
     "output_type": "execute_result"
    }
   ],
   "source": [
    "train_features = feat_all[feat_all['uid'].isin(uid_train['uid'])]\n",
    "train_features.shape"
   ]
  },
  {
   "cell_type": "code",
   "execution_count": 47,
   "metadata": {},
   "outputs": [
    {
     "data": {
      "text/plain": [
       "(3000, 5)"
      ]
     },
     "execution_count": 47,
     "metadata": {},
     "output_type": "execute_result"
    }
   ],
   "source": [
    "test_features = feat_all[feat_all['uid'].isin(uid_test['uid'])]\n",
    "test_features.shape"
   ]
  },
  {
   "cell_type": "code",
   "execution_count": 48,
   "metadata": {},
   "outputs": [],
   "source": [
    "train_features.to_csv('../myFeatures/train_features3.csv',index=None)\n",
    "test_features.to_csv('../myFeatures/test_features3.csv',index=None)"
   ]
  },
  {
   "cell_type": "code",
   "execution_count": null,
   "metadata": {},
   "outputs": [],
   "source": []
  }
 ],
 "metadata": {
  "kernelspec": {
   "display_name": "Python 3",
   "language": "python",
   "name": "python3"
  },
  "language_info": {
   "codemirror_mode": {
    "name": "ipython",
    "version": 3
   },
   "file_extension": ".py",
   "mimetype": "text/x-python",
   "name": "python",
   "nbconvert_exporter": "python",
   "pygments_lexer": "ipython3",
   "version": "3.6.4"
  }
 },
 "nbformat": 4,
 "nbformat_minor": 2
}
